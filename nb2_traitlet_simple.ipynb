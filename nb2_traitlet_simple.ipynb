{
	"cells": [
		{
			"cell_type": "code",
			"execution_count": 1,
			"metadata": {},
			"outputs": [
				{
					"data": {
						"application/vnd.jupyter.widget-view+json": {
							"model_id": "72aa7bbea59e4768a1ba0dbe65279a12",
							"version_major": 2,
							"version_minor": 0
						},
						"text/plain": [
							"AnyNiivue(volume=[{'url': 'images/mni152.nii.gz'}, {'url': 'images/hippo.nii.gz', 'colormap': 'blue', 'opacity…"
						]
					},
					"metadata": {},
					"output_type": "display_data"
				}
			],
			"source": [
				"import anywidget \n",
				"import pathlib\n",
				"import traitlets\n",
				"\n",
				"class AnyNiivue(anywidget.AnyWidget):\n",
				"  path_root = pathlib.Path.cwd()\n",
				"  _esm = path_root / \"src\" / \"ipyniivue_experimental\"/ \"static\" / \"widget_traitlet.js\"\n",
				"  opacity = traitlets.Float(1.0).tag(sync=True)\n",
				"  volume = traitlets.Any(\"\").tag(sync=True)\n",
				"\n",
				"  def set_volume(self, value):\n",
				"    self.volume = value\n",
				"\n",
				"  def set_opacity(self, value):\n",
				"    self.opacity = value\n",
				"\n",
				"  def get_opacitiy(self):\n",
				"    return self.opacity\n",
				"\n",
				"  \n",
				"nv1 = AnyNiivue()\n",
				"my_volumes = [\n",
				"            {\"url\": \"images/mni152.nii.gz\"},\n",
				"            {\"url\": \"images/hippo.nii.gz\", \"colormap\": \"blue\", \"opacity\": 0.8},\n",
				"        ]\n",
				"\n",
				"nv1.set_volume(my_volumes)\n",
				"display(nv1)"
			]
		},
		{
			"cell_type": "code",
			"execution_count": 2,
			"metadata": {},
			"outputs": [],
			"source": [
				"my_volumes = [\n",
				"            {\"url\": \"images/hippo.nii.gz\", \"colormap\": \"blue\", \"opacity\": 0.8},\n",
				"        ]\n",
				"\n",
				"nv1.set_volume(my_volumes)\n",
				"nv1.set_opacity(0.1)"
			]
		},
		{
			"cell_type": "code",
			"execution_count": 3,
			"metadata": {},
			"outputs": [
				{
					"data": {
						"application/vnd.jupyter.widget-view+json": {
							"model_id": "72aa7bbea59e4768a1ba0dbe65279a12",
							"version_major": 2,
							"version_minor": 0
						},
						"text/plain": [
							"AnyNiivue(opacity=0.1, volume=[{'url': 'images/hippo.nii.gz', 'colormap': 'blue', 'opacity': 0.8}])"
						]
					},
					"execution_count": 3,
					"metadata": {},
					"output_type": "execute_result"
				}
			],
			"source": [
				"nv1"
			]
		},
		{
			"cell_type": "code",
			"execution_count": 4,
			"metadata": {},
			"outputs": [],
			"source": [
				"my_volumes = [\n",
				"            {\"url\": \"images/mni152.nii.gz\"},\n",
				"        ]\n",
				"\n",
				"nv1.set_volume(my_volumes)"
			]
		},
		{
			"cell_type": "code",
			"execution_count": 5,
			"metadata": {},
			"outputs": [],
			"source": [
				"my_volumes = [\n",
				"            {\"url\": \"images/mni152.nii.gz\"},\n",
				"            {\"url\": \"images/hippo.nii.gz\", \"colormap\": \"blue\", \"opacity\": 0.8},\n",
				"        ]\n",
				"\n",
				"nv1.set_volume(my_volumes)\n"
			]
		},
		{
			"cell_type": "code",
			"execution_count": null,
			"metadata": {},
			"outputs": [],
			"source": []
		}
	],
	"metadata": {
		"kernelspec": {
			"display_name": ".venv",
			"language": "python",
			"name": "python3"
		},
		"language_info": {
			"codemirror_mode": {
				"name": "ipython",
				"version": 3
			},
			"file_extension": ".py",
			"mimetype": "text/x-python",
			"name": "python",
			"nbconvert_exporter": "python",
			"pygments_lexer": "ipython3",
			"version": "3.11.7"
		}
	},
	"nbformat": 4,
	"nbformat_minor": 2
}

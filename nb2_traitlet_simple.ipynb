{
	"cells": [
		{
			"cell_type": "code",
			"execution_count": 1,
			"metadata": {},
			"outputs": [
				{
					"data": {
						"application/vnd.jupyter.widget-view+json": {
							"model_id": "267ac9d3ed5541998b21fe1638185379",
							"version_major": 2,
							"version_minor": 0
						},
						"text/plain": [
							"AnyNiivue()"
						]
					},
					"metadata": {},
					"output_type": "display_data"
				}
			],
			"source": [
				"import anywidget \n",
				"import pathlib\n",
				"import traitlets\n",
				"\n",
				"from traitlets import Unicode\n",
				"\n",
				"class AnyNiivue(anywidget.AnyWidget):\n",
				"  path_root = pathlib.Path.cwd()\n",
				"  _esm = path_root / \"src\" / \"ipyniivue_experimental\"/ \"static\" / \"widget_traitlet.js\"\n",
				"  opacity = traitlets.Float(1.0).tag(sync=True)\n",
				"  volume = traitlets.Unicode(\"\").tag(sync=True)\n",
				"\n",
				"\n",
				"  def set_volume(self, value):\n",
				"    self.volume = value\n",
				"\n",
				"\n",
				"  def set_opacity(self, value):\n",
				"    self.opacity = value\n",
				"\n",
				"  def get_opacitiy(self):\n",
				"    return self.opacity\n",
				"\n",
				"  \n",
				"\n",
				"nv1 = AnyNiivue()\n",
				"display(nv1)"
			]
		},
		{
			"cell_type": "code",
			"execution_count": 2,
			"metadata": {},
			"outputs": [],
			"source": [
				"nv1.set_opacity(0.7)"
			]
		},
		{
			"cell_type": "code",
			"execution_count": 3,
			"metadata": {},
			"outputs": [],
			"source": [
				"nv1.set_colormap(\"blue\")"
			]
		},
		{
			"cell_type": "code",
			"execution_count": 4,
			"metadata": {},
			"outputs": [],
			"source": [
				"nv1.set_colormap(\"red\")"
			]
		},
		{
			"cell_type": "code",
			"execution_count": 5,
			"metadata": {},
			"outputs": [
				{
					"data": {
						"text/plain": [
							"'red'"
						]
					},
					"execution_count": 5,
					"metadata": {},
					"output_type": "execute_result"
				}
			],
			"source": [
				"nv1.get_colormap()"
			]
		}
	],
	"metadata": {
		"kernelspec": {
			"display_name": ".venv",
			"language": "python",
			"name": "python3"
		},
		"language_info": {
			"codemirror_mode": {
				"name": "ipython",
				"version": 3
			},
			"file_extension": ".py",
			"mimetype": "text/x-python",
			"name": "python",
			"nbconvert_exporter": "python",
			"pygments_lexer": "ipython3",
			"version": "3.11.7"
		}
	},
	"nbformat": 4,
	"nbformat_minor": 2
}

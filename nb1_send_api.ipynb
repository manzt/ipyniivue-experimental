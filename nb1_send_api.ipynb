{
	"cells": [
		{
			"cell_type": "code",
			"execution_count": 7,
			"metadata": {},
			"outputs": [],
			"source": [
				"############ This code block will go to __init__.py \n",
				"\n",
				"import anywidget \n",
				"import pathlib\n",
				"\n",
				"class AnyNiivue(anywidget.AnyWidget):\n",
				"  path_root = pathlib.Path.cwd()\n",
				"  _esm = path_root / \"src\" / \"ipyniivue_experimental\"/ \"static\" / \"widget_send.js\"\n",
				"\n",
				"  def load_volumes(self, volume_list):\n",
				"    self.send({ \"type\": \"api\", \"func\": \"loadVolumes\", \"args\": [volume_list] })\n",
				"\n",
				"  def load_meshes(self, mesh_list):\n",
				"    self.send({ \"type\": \"api\", \"func\": \"loadMeshes\", \"args\": [mesh_list] })\n",
				"############"
			]
		},
		{
			"cell_type": "code",
			"execution_count": 8,
			"metadata": {},
			"outputs": [
				{
					"data": {
						"application/vnd.jupyter.widget-view+json": {
							"model_id": "79baf16faab645a9ad046d0dc799271b",
							"version_major": 2,
							"version_minor": 0
						},
						"text/plain": [
							"AnyNiivue()"
						]
					},
					"metadata": {},
					"output_type": "display_data"
				}
			],
			"source": [
				"nv1 = AnyNiivue()\n",
				"display(nv1)"
			]
		},
		{
			"cell_type": "code",
			"execution_count": 9,
			"metadata": {},
			"outputs": [],
			"source": [
				"my_volumes = [\n",
				"            {\"url\": \"images/mni152.nii.gz\"},\n",
				"            {\"url\": \"images/hippo.nii.gz\", \"colormap\": \"blue\", \"opacity\": 0.8},\n",
				"        ]\n",
				"nv1.load_volumes(my_volumes)"
			]
		},
		{
			"cell_type": "code",
			"execution_count": 4,
			"metadata": {},
			"outputs": [
				{
					"data": {
						"application/vnd.jupyter.widget-view+json": {
							"model_id": "4e68a03d29cd4eb4ba15f243ab90ab93",
							"version_major": 2,
							"version_minor": 0
						},
						"text/plain": [
							"AnyNiivue()"
						]
					},
					"metadata": {},
					"output_type": "display_data"
				}
			],
			"source": [
				"nv2 = AnyNiivue()\n",
				"display(nv2)"
			]
		},
		{
			"cell_type": "code",
			"execution_count": 10,
			"metadata": {},
			"outputs": [],
			"source": [
				"my_mesh = [\n",
				"    {\n",
				"        \"url\": \"https://niivue.github.io/niivue/images/dpsv.trx\",\n",
				"        \"rgba255\": [0, 142, 0, 255],\n",
				"       \n",
				"    },\n",
				"]\n",
				"\n",
				"nv2.load_meshes(my_mesh)"
			]
		},
		{
			"cell_type": "code",
			"execution_count": 11,
			"metadata": {},
			"outputs": [],
			"source": [
				"nv1.load_meshes(my_mesh)"
			]
		},
		{
			"cell_type": "code",
			"execution_count": 5,
			"metadata": {},
			"outputs": [],
			"source": [
				"my_mesh = [\n",
				"    {\n",
				"        \"url\": \"images/Human.colin.Cerebral.R.VERY_INFLATED.71723.surf.gii\",\n",
				"        \"rgba255\": [255, 255, 255, 255],\n",
				"        \"layers\": [\n",
				"            {\n",
				"                \"url\": \"images/Human.colin.R.FUNCTIONAL.71723.func.gii\",\n",
				"                \"colormap\": \"rocket\",\n",
				"                \"opacity\": 0.7,\n",
				"            },\n",
				"        ],\n",
				"    },\n",
				"]\n",
				"\n",
				"nv2.load_meshes(my_mesh)"
			]
		},
		{
			"cell_type": "code",
			"execution_count": null,
			"metadata": {},
			"outputs": [],
			"source": [
				"nv2.load_volumes(my_volumes)"
			]
		}
	],
	"metadata": {
		"kernelspec": {
			"display_name": ".venv",
			"language": "python",
			"name": "python3"
		},
		"language_info": {
			"codemirror_mode": {
				"name": "ipython",
				"version": 3
			},
			"file_extension": ".py",
			"mimetype": "text/x-python",
			"name": "python",
			"nbconvert_exporter": "python",
			"pygments_lexer": "ipython3",
			"version": "3.11.7"
		}
	},
	"nbformat": 4,
	"nbformat_minor": 2
}

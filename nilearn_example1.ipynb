{
 "cells": [
  {
   "cell_type": "code",
   "execution_count": 1,
   "metadata": {},
   "outputs": [
    {
     "name": "stdout",
     "output_type": "stream",
     "text": [
      "[PosixPath('/Users/jan-hendrik/nilearn_data/brainomics_localizer/brainomics_data/S02/normalized_T1_anat_defaced.nii.gz')]\n"
     ]
    },
    {
     "data": {
      "application/vnd.jupyter.widget-view+json": {
       "model_id": "3f2bdfe8796f44c9b7c9a49c92f8ca1f",
       "version_major": 2,
       "version_minor": 0
      },
      "text/plain": [
       "AnyNiivue()"
      ]
     },
     "metadata": {},
     "output_type": "display_data"
    }
   ],
   "source": [
    "# example from https://nilearn.github.io/stable/auto_examples/01_plotting/plot_dim_plotting.html#sphx-glr-auto-examples-01-plotting-plot-dim-plotting-py\n",
    "from nilearn import datasets\n",
    "\n",
    "localizer_dataset = datasets.fetch_localizer_button_task(legacy_format=False)\n",
    "# Contrast map of motor task\n",
    "localizer_tmap_filename = localizer_dataset.tmap\n",
    "# Subject specific anatomical image\n",
    "localizer_anat_filename = localizer_dataset.anat\n",
    "\n",
    "from ipyniivue_experimental import AnyNiivue\n",
    "import pathlib\n",
    "\n",
    "nv = AnyNiivue()\n",
    "\n",
    "# p1 = pathlib.Path(localizer_tmap_filename)\n",
    "# nv.add_volume(p1)\n",
    "\n",
    "p2 = pathlib.Path(localizer_anat_filename)\n",
    "nv.add_volume(p2)\n",
    "\n",
    "display(nv)"
   ]
  }
 ],
 "metadata": {
  "kernelspec": {
   "display_name": ".venv",
   "language": "python",
   "name": "python3"
  },
  "language_info": {
   "codemirror_mode": {
    "name": "ipython",
    "version": 3
   },
   "file_extension": ".py",
   "mimetype": "text/x-python",
   "name": "python",
   "nbconvert_exporter": "python",
   "pygments_lexer": "ipython3",
   "version": "3.11.7"
  }
 },
 "nbformat": 4,
 "nbformat_minor": 2
}
